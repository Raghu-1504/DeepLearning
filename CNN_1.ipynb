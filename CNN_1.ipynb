{
  "nbformat": 4,
  "nbformat_minor": 0,
  "metadata": {
    "colab": {
      "provenance": [],
      "gpuType": "T4",
      "authorship_tag": "ABX9TyPKkTRxB6QTycuFW7BiMlNB",
      "include_colab_link": true
    },
    "kernelspec": {
      "name": "python3",
      "display_name": "Python 3"
    },
    "language_info": {
      "name": "python"
    },
    "accelerator": "GPU"
  },
  "cells": [
    {
      "cell_type": "markdown",
      "metadata": {
        "id": "view-in-github",
        "colab_type": "text"
      },
      "source": [
        "<a href=\"https://colab.research.google.com/github/Raghu-1504/DeepLearning/blob/main/CNN_1.ipynb\" target=\"_parent\"><img src=\"https://colab.research.google.com/assets/colab-badge.svg\" alt=\"Open In Colab\"/></a>"
      ]
    },
    {
      "cell_type": "code",
      "source": [
        "pip install tensorboard\n"
      ],
      "metadata": {
        "colab": {
          "base_uri": "https://localhost:8080/"
        },
        "id": "GB6-sprxIkRt",
        "outputId": "df133e9f-f17d-4dd5-a8ee-3a3723ea62e4"
      },
      "execution_count": null,
      "outputs": [
        {
          "output_type": "stream",
          "name": "stdout",
          "text": [
            "Requirement already satisfied: tensorboard in /usr/local/lib/python3.10/dist-packages (2.13.0)\n",
            "Requirement already satisfied: absl-py>=0.4 in /usr/local/lib/python3.10/dist-packages (from tensorboard) (1.4.0)\n",
            "Requirement already satisfied: grpcio>=1.48.2 in /usr/local/lib/python3.10/dist-packages (from tensorboard) (1.57.0)\n",
            "Requirement already satisfied: google-auth<3,>=1.6.3 in /usr/local/lib/python3.10/dist-packages (from tensorboard) (2.17.3)\n",
            "Requirement already satisfied: google-auth-oauthlib<1.1,>=0.5 in /usr/local/lib/python3.10/dist-packages (from tensorboard) (1.0.0)\n",
            "Requirement already satisfied: markdown>=2.6.8 in /usr/local/lib/python3.10/dist-packages (from tensorboard) (3.4.4)\n",
            "Requirement already satisfied: numpy>=1.12.0 in /usr/local/lib/python3.10/dist-packages (from tensorboard) (1.23.5)\n",
            "Requirement already satisfied: protobuf>=3.19.6 in /usr/local/lib/python3.10/dist-packages (from tensorboard) (3.20.3)\n",
            "Requirement already satisfied: requests<3,>=2.21.0 in /usr/local/lib/python3.10/dist-packages (from tensorboard) (2.31.0)\n",
            "Requirement already satisfied: setuptools>=41.0.0 in /usr/local/lib/python3.10/dist-packages (from tensorboard) (67.7.2)\n",
            "Requirement already satisfied: tensorboard-data-server<0.8.0,>=0.7.0 in /usr/local/lib/python3.10/dist-packages (from tensorboard) (0.7.1)\n",
            "Requirement already satisfied: werkzeug>=1.0.1 in /usr/local/lib/python3.10/dist-packages (from tensorboard) (2.3.7)\n",
            "Requirement already satisfied: wheel>=0.26 in /usr/local/lib/python3.10/dist-packages (from tensorboard) (0.41.2)\n",
            "Requirement already satisfied: cachetools<6.0,>=2.0.0 in /usr/local/lib/python3.10/dist-packages (from google-auth<3,>=1.6.3->tensorboard) (5.3.1)\n",
            "Requirement already satisfied: pyasn1-modules>=0.2.1 in /usr/local/lib/python3.10/dist-packages (from google-auth<3,>=1.6.3->tensorboard) (0.3.0)\n",
            "Requirement already satisfied: six>=1.9.0 in /usr/local/lib/python3.10/dist-packages (from google-auth<3,>=1.6.3->tensorboard) (1.16.0)\n",
            "Requirement already satisfied: rsa<5,>=3.1.4 in /usr/local/lib/python3.10/dist-packages (from google-auth<3,>=1.6.3->tensorboard) (4.9)\n",
            "Requirement already satisfied: requests-oauthlib>=0.7.0 in /usr/local/lib/python3.10/dist-packages (from google-auth-oauthlib<1.1,>=0.5->tensorboard) (1.3.1)\n",
            "Requirement already satisfied: charset-normalizer<4,>=2 in /usr/local/lib/python3.10/dist-packages (from requests<3,>=2.21.0->tensorboard) (3.2.0)\n",
            "Requirement already satisfied: idna<4,>=2.5 in /usr/local/lib/python3.10/dist-packages (from requests<3,>=2.21.0->tensorboard) (3.4)\n",
            "Requirement already satisfied: urllib3<3,>=1.21.1 in /usr/local/lib/python3.10/dist-packages (from requests<3,>=2.21.0->tensorboard) (2.0.4)\n",
            "Requirement already satisfied: certifi>=2017.4.17 in /usr/local/lib/python3.10/dist-packages (from requests<3,>=2.21.0->tensorboard) (2023.7.22)\n",
            "Requirement already satisfied: MarkupSafe>=2.1.1 in /usr/local/lib/python3.10/dist-packages (from werkzeug>=1.0.1->tensorboard) (2.1.3)\n",
            "Requirement already satisfied: pyasn1<0.6.0,>=0.4.6 in /usr/local/lib/python3.10/dist-packages (from pyasn1-modules>=0.2.1->google-auth<3,>=1.6.3->tensorboard) (0.5.0)\n",
            "Requirement already satisfied: oauthlib>=3.0.0 in /usr/local/lib/python3.10/dist-packages (from requests-oauthlib>=0.7.0->google-auth-oauthlib<1.1,>=0.5->tensorboard) (3.2.2)\n"
          ]
        }
      ]
    },
    {
      "cell_type": "code",
      "execution_count": null,
      "metadata": {
        "id": "SGhODtjyFmQT"
      },
      "outputs": [],
      "source": [
        "from torch.utils import tensorboard\n",
        "import torch\n",
        "\n",
        "import torch.nn as nn\n",
        "\n",
        "import torchvision ###image data set\n",
        "import torchvision.transforms as transforms\n",
        "import torch.nn.functional as F\n",
        "import matplotlib.pyplot as plt\n"
      ]
    },
    {
      "cell_type": "markdown",
      "source": [
        "preprocessing images"
      ],
      "metadata": {
        "id": "HKfLjfA3F9zp"
      }
    },
    {
      "cell_type": "code",
      "source": [
        "transform = transforms.Compose([transforms.ToTensor(),transforms.Normalize((0.5,0.50,.50),(0.50,.50,.5))])#  mean and standard deviation to be passed in normalization"
      ],
      "metadata": {
        "id": "ogDN7dJNF6Cf"
      },
      "execution_count": null,
      "outputs": []
    },
    {
      "cell_type": "code",
      "source": [
        "training_data = torchvision.datasets.CIFAR10(root = './data',train = True,download = True,transform = transform,)\n",
        "test_data = torchvision.datasets.CIFAR10(root = './data',train = False,download = True,transform = transform,)"
      ],
      "metadata": {
        "colab": {
          "base_uri": "https://localhost:8080/"
        },
        "id": "XGolq_5zHPnY",
        "outputId": "539b5acb-cc37-4e41-c4e0-ead0c8e578e0"
      },
      "execution_count": null,
      "outputs": [
        {
          "output_type": "stream",
          "name": "stdout",
          "text": [
            "Downloading https://www.cs.toronto.edu/~kriz/cifar-10-python.tar.gz to ./data/cifar-10-python.tar.gz\n"
          ]
        },
        {
          "output_type": "stream",
          "name": "stderr",
          "text": [
            "100%|██████████| 170498071/170498071 [00:14<00:00, 11684699.15it/s]\n"
          ]
        },
        {
          "output_type": "stream",
          "name": "stdout",
          "text": [
            "Extracting ./data/cifar-10-python.tar.gz to ./data\n",
            "Files already downloaded and verified\n"
          ]
        }
      ]
    },
    {
      "cell_type": "code",
      "source": [
        "from torch.utils.tensorboard import SummaryWriter\n",
        "writer = SummaryWriter()\n",
        "# %load_ext tensorboard"
      ],
      "metadata": {
        "id": "rb-0diRHITYs"
      },
      "execution_count": null,
      "outputs": []
    },
    {
      "cell_type": "code",
      "source": [
        "lab = ('plane', 'car', 'bird', 'cat','deer', 'dog', 'frog', 'horse', 'ship', 'truck')\n",
        "for i in range(5,len(training_data)):\n",
        "  plt.figure(figsize = (4,4))\n",
        "  img,label = training_data[i]\n",
        "  plt.imshow(img.permute(1, 2, 0).numpy())\n",
        "  plt.title(lab[label])\n",
        "  plt.axis(\"off\")\n",
        "  break"
      ],
      "metadata": {
        "colab": {
          "base_uri": "https://localhost:8080/",
          "height": 384
        },
        "id": "tuqX6tZn_PBu",
        "outputId": "0c432390-5a25-42fb-d86f-4e7aa1c74372"
      },
      "execution_count": null,
      "outputs": [
        {
          "output_type": "stream",
          "name": "stderr",
          "text": [
            "WARNING:matplotlib.image:Clipping input data to the valid range for imshow with RGB data ([0..1] for floats or [0..255] for integers).\n"
          ]
        },
        {
          "output_type": "display_data",
          "data": {
            "text/plain": [
              "<Figure size 400x400 with 1 Axes>"
            ],
            "image/png": "[encoded data removed]"
          },
          "metadata": {}
        }
      ]
    },
    {
      "cell_type": "code",
      "source": [
        "writer.add_image('my first image',img)\n",
        "writer.close()"
      ],
      "metadata": {
        "id": "jfjM3O_RIzXx"
      },
      "execution_count": null,
      "outputs": []
    },
    {
      "cell_type": "code",
      "source": [
        "%load_ext tensorboard\n",
        "%tensorboard --logdir = \"/content/runs\" --port = 6006"
      ],
      "metadata": {
        "colab": {
          "base_uri": "https://localhost:8080/",
          "height": 364
        },
        "id": "S6ti7cVSH0pj",
        "outputId": "a8f8183d-a780-432c-d35a-ba1c526de2ec"
      },
      "execution_count": null,
      "outputs": [
        {
          "output_type": "display_data",
          "data": {
            "text/plain": [
              "ERROR: Failed to launch TensorBoard (exited with 2).\n",
              "Contents of stderr:\n",
              "2023-09-23 06:38:40.231355: W tensorflow/compiler/tf2tensorrt/utils/py_utils.cc:38] TF-TRT Warning: Could not find TensorRT\n",
              "usage: tensorboard [-h] [--helpfull] [--logdir PATH] [--logdir_spec PATH_SPEC]\n",
              "                   [--host ADDR] [--bind_all] [--port PORT]\n",
              "                   [--reuse_port BOOL] [--load_fast {false,auto,true}]\n",
              "                   [--extra_data_server_flags EXTRA_DATA_SERVER_FLAGS]\n",
              "                   [--grpc_creds_type {local,ssl,ssl_dev}]\n",
              "                   [--grpc_data_provider PORT] [--purge_orphaned_data BOOL]\n",
              "                   [--db URI] [--db_import] [--inspect] [--version_tb]\n",
              "                   [--tag TAG] [--event_file PATH] [--path_prefix PATH]\n",
              "                   [--window_title TEXT] [--max_reload_threads COUNT]\n",
              "                   [--reload_interval SECONDS] [--reload_task TYPE]\n",
              "                   [--reload_multifile BOOL]\n",
              "                   [--reload_multifile_inactive_secs SECONDS]\n",
              "                   [--generic_data TYPE]\n",
              "                   [--samples_per_plugin SAMPLES_PER_PLUGIN]\n",
              "                   [--detect_file_replacement BOOL]\n",
              "                   {serve,dev} ...\n",
              "tensorboard: error: argument {serve,dev}: invalid choice: '/content/runs' (choose from 'serve', 'dev')"
            ]
          },
          "metadata": {}
        }
      ]
    },
    {
      "cell_type": "code",
      "source": [
        "from tensorboard import notebook\n",
        "notebook.list()"
      ],
      "metadata": {
        "colab": {
          "base_uri": "https://localhost:8080/"
        },
        "id": "fkrwXpWXH2Yx",
        "outputId": "d3c1fb61-d8a7-4c50-e303-a50def598692"
      },
      "execution_count": null,
      "outputs": [
        {
          "output_type": "stream",
          "name": "stdout",
          "text": [
            "No known TensorBoard instances running.\n"
          ]
        }
      ]
    },
    {
      "cell_type": "code",
      "source": [
        "notebook.display(port = 6006, height = 1000)"
      ],
      "metadata": {
        "colab": {
          "base_uri": "https://localhost:8080/",
          "height": 1000
        },
        "id": "Lz-jO7MsH6HA",
        "outputId": "8d524d60-3e22-4854-a96e-014869eb9505"
      },
      "execution_count": null,
      "outputs": [
        {
          "output_type": "display_data",
          "data": {
            "text/plain": [
              "<IPython.core.display.Javascript object>"
            ],
            "application/javascript": [
              "\n",
              "        (async () => {\n",
              "            const url = new URL(await google.colab.kernel.proxyPort(6006, {'cache': true}));\n",
              "            url.searchParams.set('tensorboardColab', 'true');\n",
              "            const iframe = document.createElement('iframe');\n",
              "            iframe.src = url;\n",
              "            iframe.setAttribute('width', '100%');\n",
              "            iframe.setAttribute('height', '1000');\n",
              "            iframe.setAttribute('frameborder', 0);\n",
              "            document.body.appendChild(iframe);\n",
              "        })();\n",
              "    "
            ]
          },
          "metadata": {}
        }
      ]
    },
    {
      "cell_type": "code",
      "source": [
        "!tensorboard dev upload \\\n",
        "  --logdir \"/content/runs\" \\\n",
        "  --name \"My latest expariment\" \\\n",
        "  --description \"simple comparison of several hyperparameters\" \\\n",
        "  --one_shot"
      ],
      "metadata": {
        "colab": {
          "base_uri": "https://localhost:8080/"
        },
        "id": "RRy-8V7bH_VL",
        "outputId": "3013e802-9597-4633-d2a9-3feded3647a4"
      },
      "execution_count": null,
      "outputs": [
        {
          "output_type": "stream",
          "name": "stdout",
          "text": [
            "2023-09-23 06:39:12.155657: W tensorflow/compiler/tf2tensorrt/utils/py_utils.cc:38] TF-TRT Warning: Could not find TensorRT\n",
            "\n",
            "***** TensorBoard Uploader *****\n",
            "\n",
            "This will upload your TensorBoard logs to https://tensorboard.dev/ from\n",
            "the following directory:\n",
            "\n",
            "/content/runs\n",
            "\n",
            "This TensorBoard will be visible to everyone. Do not upload sensitive\n",
            "data.\n",
            "\n",
            "Your use of this service is subject to Google's Terms of Service\n",
            "<https://policies.google.com/terms> and Privacy Policy\n",
            "<https://policies.google.com/privacy>, and TensorBoard.dev's Terms of Service\n",
            "<https://tensorboard.dev/policy/terms/>.\n",
            "\n",
            "This notice will not be shown again while you are logged into the uploader.\n",
            "To log out, run `tensorboard dev auth revoke`.\n",
            "\n",
            "Continue? (yes/NO) Traceback (most recent call last):\n",
            "  File \"/usr/local/bin/tensorboard\", line 8, in <module>\n",
            "    sys.exit(run_main())\n",
            "  File \"/usr/local/lib/python3.10/dist-packages/tensorboard/main.py\", line 46, in run_main\n",
            "  File \"/usr/local/lib/python3.10/dist-packages/absl/app.py\", line 308, in run\n",
            "    _run_main(main, args)\n",
            "  File \"/usr/local/lib/python3.10/dist-packages/absl/app.py\", line 254, in _run_main\n",
            "    sys.exit(main(argv))\n",
            "  File \"/usr/local/lib/python3.10/dist-packages/tensorboard/program.py\", line 276, in main\n",
            "    return runner(self.flags) or 0\n",
            "  File \"/usr/local/lib/python3.10/dist-packages/tensorboard/uploader/uploader_subcommand.py\", line 691, in run\n",
            "    return _run(flags, self._experiment_url_callback)\n",
            "  File \"/usr/local/lib/python3.10/dist-packages/tensorboard/uploader/uploader_subcommand.py\", line 93, in _run\n",
            "    _prompt_for_user_ack(intent)\n",
            "  File \"/usr/local/lib/python3.10/dist-packages/tensorboard/uploader/uploader_subcommand.py\", line 66, in _prompt_for_user_ack\n",
            "    response = input(\"Continue? (yes/NO) \")\n",
            "KeyboardInterrupt\n",
            "^C\n"
          ]
        }
      ]
    },
    {
      "cell_type": "code",
      "source": [
        "figure = plt.figure(figsize=(5, 5))\n",
        "cols, rows = 3, 3\n",
        "for i in range(1, cols * rows + 1):\n",
        "    sample_idx = torch.randint(len(training_data), size=(1,)).item()\n",
        "    img, label = training_data[sample_idx]\n",
        "    figure.add_subplot(rows, cols, i)\n",
        "    img = img.permute(1, 2, 0).numpy()\n",
        "    plt.title(lab[label])\n",
        "    plt.axis(\"off\")\n",
        "    plt.imshow(img)\n",
        "plt.show()"
      ],
      "metadata": {
        "colab": {
          "base_uri": "https://localhost:8080/",
          "height": 600
        },
        "id": "cdljbeFCA0p-",
        "outputId": "d951d759-2514-4623-8e61-61a60f8ca34b"
      },
      "execution_count": null,
      "outputs": [
        {
          "output_type": "stream",
          "name": "stderr",
          "text": [
            "WARNING:matplotlib.image:Clipping input data to the valid range for imshow with RGB data ([0..1] for floats or [0..255] for integers).\n",
            "WARNING:matplotlib.image:Clipping input data to the valid range for imshow with RGB data ([0..1] for floats or [0..255] for integers).\n",
            "WARNING:matplotlib.image:Clipping input data to the valid range for imshow with RGB data ([0..1] for floats or [0..255] for integers).\n",
            "WARNING:matplotlib.image:Clipping input data to the valid range for imshow with RGB data ([0..1] for floats or [0..255] for integers).\n",
            "WARNING:matplotlib.image:Clipping input data to the valid range for imshow with RGB data ([0..1] for floats or [0..255] for integers).\n",
            "WARNING:matplotlib.image:Clipping input data to the valid range for imshow with RGB data ([0..1] for floats or [0..255] for integers).\n",
            "WARNING:matplotlib.image:Clipping input data to the valid range for imshow with RGB data ([0..1] for floats or [0..255] for integers).\n",
            "WARNING:matplotlib.image:Clipping input data to the valid range for imshow with RGB data ([0..1] for floats or [0..255] for integers).\n",
            "WARNING:matplotlib.image:Clipping input data to the valid range for imshow with RGB data ([0..1] for floats or [0..255] for integers).\n"
          ]
        },
        {
          "output_type": "display_data",
          "data": {
            "text/plain": [
              "<Figure size 500x500 with 9 Axes>"
            ],
            "image/png": "[encoded data removed]"
          },
          "metadata": {}
        }
      ]
    },
    {
      "cell_type": "code",
      "source": [
        "batch_size = 64\n",
        "traindata_loader = torch.utils.data.DataLoader(training_data,batch_size=batch_size,shuffle = True)\n",
        "testdata_loader = torch.utils.data.DataLoader(test_data,batch_size=batch_size,shuffle = True)"
      ],
      "metadata": {
        "id": "rKuJnqjKIJvP"
      },
      "execution_count": null,
      "outputs": []
    },
    {
      "cell_type": "code",
      "source": [
        "class CNN(nn.Module):\n",
        "  def __init__(self):\n",
        "    super(CNN,self).__init__()\n",
        "    \"\"\"\n",
        "in_channels: int, out_channels: int, kernel_size: _size_2_t, stride: _size_2_t = 1, padding: _size_2_t | str = 0, dilation: _size_2_t = 1, groups: int = 1, bias: bool = True, padding_mode: str = 'zeros', device: Any | None = None, dtype: Any | None = None) -> None\n",
        "Initializes internal Module state, shared by both nn.Module and ScriptModule.\n",
        "\n",
        "\n",
        "    \"\"\"\n",
        "\n",
        "    self.conv1 = nn.Conv2d(3,6,5,)\n",
        "    self.pool = nn.MaxPool2d(2,2)\n",
        "    self.conv2 = nn.Conv2d(6,16,5)\n",
        "    self.fc1 = nn.Linear(16*10*10,120)\n",
        "    self.fc2 = nn.Linear(120,80)\n",
        "    self.fc3 = nn.Linear(80,10)\n",
        "    self.dropout= nn.Dropout2d(.4)\n",
        "  def forward(self,x):\n",
        "    #print('shape of image before c1 ',x.shape)\n",
        "    x = self.conv1(x)\n",
        "    x = self.dropout(x)\n",
        "    #print('shape of image after c1 ',x.shape)\n",
        "\n",
        "    x= F.relu(x)\n",
        "    x = self.pool(x)\n",
        "    #print('shape of image after pool ',x.shape)\n",
        "\n",
        "    x = self.conv2(x)\n",
        "    x = self.dropout(x)\n",
        "    #print('shape of image after c2 ',x.shape)\n",
        "\n",
        "    x = F.relu(x)\n",
        "    x = torch.flatten(x,1)\n",
        "    x = self.fc1(x)\n",
        "    x = self.fc2(x)\n",
        "    x = self.dropout(x)\n",
        "    x = F.relu(x)\n",
        "    x = self.fc3(x)\n",
        "    return x"
      ],
      "metadata": {
        "id": "ezgNTUs9I4et"
      },
      "execution_count": null,
      "outputs": []
    },
    {
      "cell_type": "code",
      "source": [
        "device = 'cuda' if torch.cuda.is_available() else 'cpu'"
      ],
      "metadata": {
        "id": "pcr22wJ5UzL6"
      },
      "execution_count": null,
      "outputs": []
    },
    {
      "cell_type": "code",
      "source": [
        "model = CNN()\n",
        "model = model.to(device)\n",
        "model"
      ],
      "metadata": {
        "colab": {
          "base_uri": "https://localhost:8080/"
        },
        "id": "ZW5pqI0OSOlm",
        "outputId": "d46538b4-b819-4be9-e08c-3fbcef43bbd5"
      },
      "execution_count": null,
      "outputs": [
        {
          "output_type": "execute_result",
          "data": {
            "text/plain": [
              "CNN(\n",
              "  (conv1): Conv2d(3, 6, kernel_size=(5, 5), stride=(1, 1))\n",
              "  (pool): MaxPool2d(kernel_size=2, stride=2, padding=0, dilation=1, ceil_mode=False)\n",
              "  (conv2): Conv2d(6, 16, kernel_size=(5, 5), stride=(1, 1))\n",
              "  (fc1): Linear(in_features=1600, out_features=120, bias=True)\n",
              "  (fc2): Linear(in_features=120, out_features=80, bias=True)\n",
              "  (fc3): Linear(in_features=80, out_features=10, bias=True)\n",
              "  (dropout): Dropout2d(p=0.4, inplace=False)\n",
              ")"
            ]
          },
          "metadata": {},
          "execution_count": 16
        }
      ]
    },
    {
      "cell_type": "code",
      "source": [
        "loss_fn = nn.CrossEntropyLoss()\n",
        "optimizer = torch.optim.SGD(model.parameters(),lr= 0.1,weight_decay = 0.001)"
      ],
      "metadata": {
        "id": "hCG-vFdqK0kE"
      },
      "execution_count": null,
      "outputs": []
    },
    {
      "cell_type": "code",
      "source": [
        "sample_input = torch.randn(batch_size, 3, 32, 32).to('cuda' if torch.cuda.is_available() else 'cpu')\n",
        "writer.add_graph(model,sample_input)\n",
        "writer.close()\n"
      ],
      "metadata": {
        "id": "toO_Vu6Py-xz",
        "colab": {
          "base_uri": "https://localhost:8080/"
        },
        "outputId": "d7e23dbf-05e1-400a-9a2e-8f5ceea26e2b"
      },
      "execution_count": null,
      "outputs": [
        {
          "output_type": "stream",
          "name": "stderr",
          "text": [
            "/usr/local/lib/python3.10/dist-packages/torch/nn/functional.py:1331: UserWarning: dropout2d: Received a 2-D input to dropout2d, which is deprecated and will result in an error in a future release. To retain the behavior and silence this warning, please use dropout instead. Note that dropout2d exists to provide channel-wise dropout on inputs with 2 spatial dimensions, a channel dimension, and an optional batch dimension (i.e. 3D or 4D inputs).\n",
            "  warnings.warn(warn_msg)\n"
          ]
        }
      ]
    },
    {
      "cell_type": "code",
      "source": [
        "for (X,y) in traindata_loader:\n",
        "  print(X[0].shape)\n",
        "  X = X.to(device)\n",
        "  print(model(X))\n",
        "  break"
      ],
      "metadata": {
        "colab": {
          "base_uri": "https://localhost:8080/"
        },
        "id": "d6I3C-yjjy96",
        "outputId": "da8a3f86-6e66-4f8a-f7a8-93d06006a042"
      },
      "execution_count": null,
      "outputs": [
        {
          "output_type": "stream",
          "name": "stdout",
          "text": [
            "torch.Size([3, 32, 32])\n",
            "tensor([[-3.7713e-02, -2.7828e-02,  3.1277e-04,  8.4941e-02, -9.5157e-02,\n",
            "          6.6479e-02, -7.2046e-02,  6.4001e-02, -4.3785e-02, -5.5474e-02],\n",
            "        [-6.6090e-02, -8.0229e-02, -5.2497e-02,  5.2267e-02, -8.0673e-02,\n",
            "          1.8703e-02, -8.3277e-02,  7.1876e-02, -5.4650e-02, -3.7866e-02],\n",
            "        [-3.9408e-02, -6.0725e-02,  7.5869e-03,  7.4600e-02, -1.1437e-01,\n",
            "          6.5602e-02, -8.8263e-02,  4.3723e-02, -1.1243e-01, -4.1241e-02],\n",
            "        [-4.8277e-02, -5.3389e-02,  5.1752e-03,  1.4493e-01, -4.5215e-02,\n",
            "          5.8195e-02, -1.4305e-02,  4.7241e-02, -1.0349e-01, -3.5765e-02],\n",
            "        [-3.4203e-02, -5.6313e-02, -3.0353e-02,  1.4351e-02, -4.7514e-02,\n",
            "         -3.3211e-02, -1.9699e-01,  5.6162e-02, -7.8993e-02, -2.1733e-02],\n",
            "        [-5.7579e-02, -4.5487e-02, -2.7016e-02,  5.9337e-02, -1.0079e-01,\n",
            "          7.0457e-02, -4.6966e-02,  8.7375e-02, -5.2660e-02, -1.6335e-02],\n",
            "        [-6.0574e-02, -5.7630e-02, -3.1691e-02,  7.7823e-02, -9.8068e-02,\n",
            "          4.6111e-02, -3.0054e-02,  4.9812e-02, -5.2375e-02, -4.3715e-02],\n",
            "        [-6.1959e-02, -9.1341e-02,  3.9577e-02,  8.7969e-02, -7.1624e-02,\n",
            "          8.7476e-02, -4.2160e-02,  8.8287e-02, -5.3455e-02, -3.0321e-02],\n",
            "        [-7.1465e-02, -6.7261e-02, -3.5423e-02,  6.0466e-02, -5.8865e-02,\n",
            "          1.5568e-02, -5.6887e-02,  4.9308e-02, -5.2185e-02, -6.4730e-02],\n",
            "        [-2.7817e-02, -4.0793e-02,  2.8484e-02,  1.5610e-01, -7.9393e-02,\n",
            "          3.0092e-02, -1.1023e-01,  4.2417e-03, -4.7696e-02, -6.1194e-02],\n",
            "        [-7.6278e-02, -3.1905e-02, -3.4764e-02,  8.1367e-02, -9.8620e-02,\n",
            "          6.1491e-02, -5.4579e-02,  9.4469e-02, -5.0799e-02, -3.5935e-02],\n",
            "        [-3.7812e-02, -4.4898e-02, -6.1133e-02,  1.2085e-01, -3.7167e-02,\n",
            "          4.2155e-02, -5.8305e-02,  9.7341e-02, -7.7631e-02, -2.4410e-02],\n",
            "        [ 4.1534e-02, -5.7418e-02,  3.1838e-03,  1.3378e-01, -6.7324e-02,\n",
            "          1.0632e-01, -1.6504e-01,  1.7833e-02,  2.0124e-02, -8.6332e-03],\n",
            "        [-6.7504e-02, -4.9661e-02, -2.1053e-03,  7.9845e-02, -6.3022e-02,\n",
            "          7.2668e-02, -8.9245e-02,  7.5347e-02, -3.8767e-02,  8.5111e-03],\n",
            "        [-5.0716e-02, -5.2348e-02, -3.0633e-02,  1.0025e-01, -7.1316e-02,\n",
            "          3.8954e-02, -4.9542e-02,  4.7385e-02, -5.7288e-02, -6.0286e-02],\n",
            "        [-4.0451e-02, -6.2733e-02, -9.2448e-03,  1.2379e-01, -6.0739e-02,\n",
            "          3.5975e-02, -5.7613e-02,  3.0294e-02, -7.5866e-02, -5.3422e-02],\n",
            "        [-6.9483e-02, -1.0691e-01, -4.0222e-03,  1.3762e-01, -2.2090e-03,\n",
            "          1.9171e-02, -1.2689e-01,  3.3452e-02, -2.7639e-02,  5.1262e-03],\n",
            "        [-7.3462e-02, -3.0688e-02,  5.0444e-02,  7.6483e-02, -1.4082e-02,\n",
            "          2.1482e-02, -8.0326e-02,  2.4751e-02, -3.5830e-02, -2.7564e-02],\n",
            "        [-4.4999e-02, -6.4129e-02, -4.6958e-02,  1.1577e-01, -3.5347e-02,\n",
            "          1.8000e-02, -1.1584e-01,  5.9513e-02, -6.2665e-02, -2.6288e-02],\n",
            "        [-9.1519e-02, -5.7729e-02, -2.3533e-02,  1.2118e-01, -8.5573e-02,\n",
            "          6.5861e-02, -6.5440e-02,  7.0945e-02, -6.4743e-02, -5.7563e-03],\n",
            "        [-5.2447e-02, -3.5281e-02, -1.8854e-02,  1.2130e-01, -5.1884e-02,\n",
            "          2.3662e-02, -6.8191e-02, -1.8235e-02, -8.3487e-02, -5.8321e-02],\n",
            "        [-5.1796e-02, -8.7160e-02,  2.2634e-02,  1.2679e-01, -9.4889e-02,\n",
            "          9.6424e-02, -7.8155e-02,  9.2439e-02, -1.4794e-03, -3.3796e-02],\n",
            "        [-5.5013e-02, -5.1148e-02, -1.5271e-02,  9.6946e-02, -8.6728e-02,\n",
            "          7.4468e-02, -6.7568e-02,  6.3179e-02, -3.7121e-02, -2.0413e-02],\n",
            "        [-4.4858e-02, -9.3046e-03, -1.3570e-02,  7.2840e-02, -8.1292e-02,\n",
            "          1.3388e-02, -7.9971e-02,  6.9718e-02, -2.9573e-02, -2.8133e-02],\n",
            "        [-1.0925e-01, -1.0174e-01, -5.2315e-02,  1.1673e-01, -9.2150e-02,\n",
            "         -1.4582e-02, -8.1118e-02,  4.7330e-02,  1.8566e-02, -6.2368e-02],\n",
            "        [-3.2259e-03, -7.8867e-02,  4.0483e-02,  5.4218e-02, -3.1342e-02,\n",
            "         -1.4878e-04, -2.2978e-01, -5.7115e-02, -2.1718e-02, -7.4247e-03],\n",
            "        [-7.0823e-02, -7.6969e-02, -4.0627e-02,  1.0063e-01, -5.0534e-02,\n",
            "          3.9199e-03, -7.7550e-02,  4.8712e-02, -9.0382e-02, -5.5150e-02],\n",
            "        [-2.3214e-02, -2.1415e-02, -3.3965e-02,  1.4416e-01, -1.0860e-01,\n",
            "          8.1195e-02, -8.7923e-02,  8.0798e-02, -5.2199e-02, -5.8315e-02],\n",
            "        [ 4.3646e-02, -6.8386e-02, -6.0215e-03,  4.7494e-02, -2.1756e-02,\n",
            "          4.5622e-02, -7.2693e-02,  8.6773e-02, -2.4448e-02, -4.9706e-02],\n",
            "        [-8.2591e-02, -6.4414e-02, -1.4565e-02,  9.8909e-02, -9.0274e-02,\n",
            "          1.1329e-01, -5.8622e-02,  6.7998e-02, -3.8371e-02, -1.9821e-02],\n",
            "        [-8.9090e-02, -7.2369e-02,  2.1139e-02,  9.7864e-02, -4.7252e-02,\n",
            "          7.6830e-02, -5.0106e-02,  5.8079e-02, -5.2522e-02, -5.7091e-02],\n",
            "        [-6.3324e-02, -5.4116e-02, -2.3942e-02,  1.0087e-01, -6.9078e-02,\n",
            "          4.0468e-02, -7.4424e-02,  4.9194e-02, -7.1351e-02, -4.2301e-02],\n",
            "        [-8.8783e-02, -7.8010e-02,  1.4115e-02,  1.5712e-01, -1.5963e-02,\n",
            "          6.3287e-02, -5.1800e-02,  1.9098e-02, -3.4199e-02, -5.2512e-02],\n",
            "        [-6.9207e-02, -5.4915e-02, -4.5589e-02,  6.6402e-02, -7.7600e-02,\n",
            "          2.0670e-02, -1.3317e-01,  5.0149e-02, -3.1708e-02, -2.7846e-02],\n",
            "        [-7.3826e-02, -7.4424e-02, -1.5742e-02,  7.1671e-02, -4.5262e-02,\n",
            "          6.2706e-02, -1.7763e-02,  5.4556e-02, -8.4008e-02, -5.5745e-02],\n",
            "        [-6.5548e-02, -8.7172e-02, -3.1035e-02,  4.6407e-02, -8.3700e-02,\n",
            "          3.4396e-02, -2.1441e-01,  3.4646e-02, -5.9970e-02, -7.9849e-03],\n",
            "        [-2.2552e-02, -6.9696e-02,  3.0040e-02,  1.3247e-01, -5.6168e-02,\n",
            "          2.9378e-02, -6.0461e-02,  1.9878e-02, -5.6787e-02, -5.4848e-02],\n",
            "        [-6.6277e-02, -4.3595e-02, -3.9605e-02,  8.9759e-02, -6.3157e-02,\n",
            "          2.4958e-02, -3.4315e-02,  6.9565e-02, -8.7625e-02, -2.0157e-02],\n",
            "        [-1.8001e-03, -4.2805e-02, -1.1957e-02,  1.0048e-01, -1.0669e-01,\n",
            "          8.1252e-02, -8.2931e-02,  5.3796e-02, -6.4316e-02, -5.0856e-02],\n",
            "        [-7.2432e-02, -4.0574e-02, -6.4309e-02,  6.7709e-02, -8.5147e-02,\n",
            "          4.4978e-02, -5.1554e-02,  8.1618e-02, -7.3745e-02, -2.2309e-02],\n",
            "        [-8.0985e-02, -8.8908e-02, -3.3788e-02,  7.0756e-02, -8.4678e-02,\n",
            "          5.4187e-02, -5.5410e-02,  4.9866e-02, -4.7712e-02, -3.7627e-02],\n",
            "        [-4.6366e-02, -3.3628e-02, -5.9539e-02,  1.0857e-01, -6.6988e-02,\n",
            "          2.7333e-02, -6.5610e-02,  7.7862e-02, -6.5352e-02, -3.7916e-02],\n",
            "        [-4.7318e-02, -7.5178e-02, -2.9328e-02,  6.0363e-02, -5.9131e-02,\n",
            "          8.1548e-02, -6.4558e-02,  6.6308e-02,  6.3932e-02, -1.9198e-02],\n",
            "        [-4.7981e-02, -7.0202e-02, -1.2495e-02,  1.1128e-01, -4.0017e-02,\n",
            "          5.3828e-02, -3.3917e-02,  4.6339e-02, -5.6937e-02, -4.7730e-02],\n",
            "        [-5.6376e-02, -4.4261e-02, -5.6225e-02,  7.2977e-02, -4.7195e-02,\n",
            "          7.6197e-03, -1.0764e-01,  8.1791e-02, -6.0743e-02, -5.2889e-02],\n",
            "        [-6.2600e-02, -7.1784e-02, -2.8814e-02,  8.1710e-02, -3.8162e-02,\n",
            "          4.2649e-02, -5.5493e-02,  1.9288e-02, -7.3950e-02, -3.1706e-02],\n",
            "        [-2.1209e-02, -5.6964e-02, -2.7757e-02,  9.2036e-02, -6.9430e-02,\n",
            "          1.8495e-02, -7.8468e-02,  6.2712e-02, -5.5627e-02, -5.2612e-02],\n",
            "        [-6.6184e-02, -6.2262e-02, -1.2459e-02,  1.0566e-01, -6.6734e-02,\n",
            "          2.2371e-02, -6.3656e-02,  2.6780e-02, -4.6569e-02, -5.3069e-02],\n",
            "        [-2.9392e-02, -3.5773e-02,  1.5732e-02,  1.0293e-01, -6.6007e-02,\n",
            "          3.5529e-02, -6.4844e-02,  7.3147e-02, -2.6250e-02, -7.2940e-02],\n",
            "        [-6.5586e-02, -7.6100e-02, -1.3897e-02,  8.1370e-02, -1.2482e-01,\n",
            "          5.4753e-02, -5.8095e-02,  3.3317e-02, -2.7964e-02, -4.5530e-02],\n",
            "        [-8.0371e-02, -7.6177e-02, -1.8483e-02,  7.5207e-02, -4.1631e-02,\n",
            "          5.3679e-02, -3.8068e-02,  2.9408e-02, -7.3719e-02, -4.3247e-02],\n",
            "        [-6.2840e-02, -6.7734e-02, -2.0929e-02,  8.8757e-02, -8.9180e-02,\n",
            "          5.7627e-02, -3.4113e-02,  1.7553e-02, -8.1455e-02, -3.4667e-02],\n",
            "        [-4.5332e-02, -6.5672e-02, -2.8373e-02,  1.0610e-01, -7.0491e-02,\n",
            "          5.1737e-02, -9.3737e-02,  5.0593e-02, -5.7555e-02, -5.6501e-02],\n",
            "        [ 4.9930e-02, -5.5932e-02, -3.1990e-02,  8.2667e-02, -5.5760e-02,\n",
            "         -2.8782e-03, -1.0449e-01,  6.4348e-02, -5.7853e-02, -5.0909e-02],\n",
            "        [-3.7703e-02, -1.9115e-02, -4.5708e-02,  1.2230e-01, -6.6843e-02,\n",
            "          4.1543e-02, -8.1006e-02,  1.6389e-02, -8.4261e-02, -4.6395e-02],\n",
            "        [-8.2839e-02, -6.3014e-02, -5.2791e-02,  3.6141e-02, -8.0861e-02,\n",
            "          6.2681e-02, -4.0998e-02,  1.0058e-01, -6.9665e-02, -2.6417e-02],\n",
            "        [ 2.9525e-03, -5.5687e-02, -8.6419e-03,  1.0747e-01, -7.7199e-02,\n",
            "          5.6157e-02, -6.8693e-02,  5.8426e-02, -8.2265e-02, -6.1999e-02],\n",
            "        [-6.4642e-02, -7.5000e-02, -1.0595e-01,  5.9351e-02, -3.4246e-02,\n",
            "          1.1079e-02, -1.1875e-01,  1.1259e-01, -2.7094e-02, -6.9047e-03],\n",
            "        [-8.7301e-02, -6.4907e-02, -7.7380e-03,  7.0303e-02, -7.9360e-02,\n",
            "          3.9170e-02, -8.3480e-02,  5.0121e-02, -4.0111e-03, -6.0521e-02],\n",
            "        [-5.9151e-02, -5.1675e-02,  1.3904e-02,  8.9425e-02, -4.9395e-02,\n",
            "          7.9071e-02, -3.4325e-02,  4.9188e-02, -8.4070e-02, -5.1420e-02],\n",
            "        [-4.1707e-02, -7.4187e-02,  2.6588e-03,  4.8133e-02, -6.2097e-02,\n",
            "          4.1495e-02, -4.6966e-02,  6.4666e-02, -3.4554e-02, -2.4153e-02],\n",
            "        [-5.7200e-02,  1.1519e-02, -2.8626e-02,  1.1777e-01, -6.1239e-02,\n",
            "          6.6662e-02, -6.2968e-02,  4.5141e-02, -2.2711e-02, -4.9547e-02],\n",
            "        [-6.1539e-02, -6.6787e-02, -1.3946e-02,  6.1494e-02, -7.0522e-02,\n",
            "          5.6559e-02, -6.1503e-02,  3.6079e-02, -5.8753e-03, -2.1858e-02],\n",
            "        [-8.9519e-02, -5.1623e-02, -3.5727e-02,  7.1926e-02, -4.8078e-02,\n",
            "          2.1862e-02, -8.7084e-02,  6.9515e-02, -6.5087e-02, -4.0000e-02]],\n",
            "       device='cuda:0', grad_fn=<AddmmBackward0>)\n"
          ]
        },
        {
          "output_type": "stream",
          "name": "stderr",
          "text": [
            "/usr/local/lib/python3.10/dist-packages/torch/nn/functional.py:1331: UserWarning: dropout2d: Received a 2-D input to dropout2d, which is deprecated and will result in an error in a future release. To retain the behavior and silence this warning, please use dropout instead. Note that dropout2d exists to provide channel-wise dropout on inputs with 2 spatial dimensions, a channel dimension, and an optional batch dimension (i.e. 3D or 4D inputs).\n",
            "  warnings.warn(warn_msg)\n"
          ]
        }
      ]
    },
    {
      "cell_type": "code",
      "source": [
        "def train(data,model,optim,loss_,epoch):\n",
        "  total_loss = 0.0\n",
        "  model.train()\n",
        "  for batch,(X,y) in enumerate(data):\n",
        "    X = X.to(device)\n",
        "    y = y.to(device)\n",
        "\n",
        "\n",
        "    pred = model(X)\n",
        "\n",
        "    loss = loss_(pred,y)\n",
        "    loss.backward()\n",
        "    optim.step()\n",
        "    optim.zero_grad()\n",
        "    total_loss += loss.item()\n",
        "    if batch % 100 == 0:\n",
        "            print(batch)\n",
        "            print(f'loss:{loss}')\n",
        "  avg_loss = total_loss / len(data)\n",
        "  writer.add_scalar(\"Training Loss\", avg_loss, epoch)"
      ],
      "metadata": {
        "id": "Hd9Dad9mj5ed"
      },
      "execution_count": null,
      "outputs": []
    },
    {
      "cell_type": "code",
      "source": [
        "def test(model,data,loss_,epoch):\n",
        "  model.eval()\n",
        "  test_error,correct = 0,0\n",
        "  size  = len(data.dataset)\n",
        "\n",
        "  with torch.no_grad():\n",
        "\n",
        "    for batch,(X,y) in enumerate(data):\n",
        "      X = X.to(device)\n",
        "      y = y.to(device)\n",
        "\n",
        "      pred = model(X)\n",
        "      loss = loss_(pred,y)\n",
        "      test_error += loss.item()\n",
        "      correct += (pred.argmax(1)==y).type(torch.float).sum().item()\n",
        "    print(f'test_correct {correct} out of {size} and  Accuracy is{correct/size*100}' )\n",
        "    test_accuracy = correct / size\n",
        "    test_loss = test_error / len(data)\n",
        "    writer.add_scalar(\"Test Accuracy\", test_accuracy, epoch)\n",
        "    writer.add_scalar(\"Test Loss\", test_loss, epoch)\n",
        "    print('test error :::',test_error)\n",
        "    return test_error\n",
        "\n"
      ],
      "metadata": {
        "id": "0my0TGTwdvno"
      },
      "execution_count": null,
      "outputs": []
    },
    {
      "cell_type": "code",
      "source": [
        "epoch = 30\n",
        "for i in range(epoch):\n",
        "  print('epoch number is ',i+1)\n",
        "  train(traindata_loader,model,optimizer,loss_fn,i)\n",
        "  test(model,testdata_loader,loss_fn,i)\n",
        "\n",
        "\n"
      ],
      "metadata": {
        "colab": {
          "base_uri": "https://localhost:8080/"
        },
        "id": "GhK0EX3-jM_0",
        "outputId": "a1bed693-ce06-43eb-83e4-07260de13516"
      },
      "execution_count": null,
      "outputs": [
        {
          "output_type": "stream",
          "name": "stdout",
          "text": [
            "epoch number is  1\n",
            "0\n",
            "loss:2.2984471321105957\n",
            "100\n",
            "loss:2.159986972808838\n",
            "200\n",
            "loss:2.060650110244751\n",
            "300\n",
            "loss:2.191488027572632\n",
            "400\n",
            "loss:2.040285110473633\n",
            "500\n",
            "loss:2.142866849899292\n",
            "600\n",
            "loss:2.019106388092041\n",
            "700\n",
            "loss:2.071732759475708\n",
            "test_correct 3310.0 out of 10000 and  Accuracy is33.1\n",
            "test error ::: 285.9380131959915\n",
            "epoch number is  2\n",
            "0\n",
            "loss:2.0390989780426025\n",
            "100\n",
            "loss:2.087239980697632\n",
            "200\n",
            "loss:1.7479597330093384\n",
            "300\n",
            "loss:1.9037712812423706\n",
            "400\n",
            "loss:1.7492878437042236\n",
            "500\n",
            "loss:1.7807016372680664\n",
            "600\n",
            "loss:1.8339521884918213\n",
            "700\n",
            "loss:1.8661000728607178\n",
            "test_correct 3755.0 out of 10000 and  Accuracy is37.55\n",
            "test error ::: 268.46149492263794\n",
            "epoch number is  3\n",
            "0\n",
            "loss:1.9072072505950928\n",
            "100\n",
            "loss:1.9102455377578735\n",
            "200\n",
            "loss:1.653869867324829\n",
            "300\n",
            "loss:1.7258810997009277\n",
            "400\n",
            "loss:1.8410481214523315\n",
            "500\n",
            "loss:1.6990182399749756\n",
            "600\n",
            "loss:1.9156965017318726\n",
            "700\n",
            "loss:2.13500714302063\n",
            "test_correct 3978.0 out of 10000 and  Accuracy is39.78\n",
            "test error ::: 258.46779787540436\n",
            "epoch number is  4\n",
            "0\n",
            "loss:2.0079362392425537\n",
            "100\n",
            "loss:1.880727767944336\n",
            "200\n",
            "loss:1.7199385166168213\n",
            "300\n",
            "loss:1.7054789066314697\n",
            "400\n",
            "loss:1.9336981773376465\n",
            "500\n",
            "loss:1.8223519325256348\n",
            "600\n",
            "loss:1.915628433227539\n",
            "700\n",
            "loss:1.8368524312973022\n",
            "test_correct 3574.0 out of 10000 and  Accuracy is35.74\n",
            "test error ::: 277.39583921432495\n",
            "epoch number is  5\n",
            "0\n",
            "loss:2.017230749130249\n",
            "100\n",
            "loss:1.747969150543213\n",
            "200\n",
            "loss:1.867147445678711\n",
            "300\n",
            "loss:1.7352689504623413\n",
            "400\n",
            "loss:2.0044021606445312\n",
            "500\n",
            "loss:1.7651792764663696\n",
            "600\n",
            "loss:1.758172869682312\n",
            "700\n",
            "loss:1.7772444486618042\n",
            "test_correct 3850.0 out of 10000 and  Accuracy is38.5\n",
            "test error ::: 273.4487555027008\n",
            "epoch number is  6\n",
            "0\n",
            "loss:1.7664769887924194\n",
            "100\n",
            "loss:1.6738895177841187\n",
            "200\n",
            "loss:1.8078219890594482\n",
            "300\n",
            "loss:1.876487135887146\n",
            "400\n",
            "loss:1.723787784576416\n",
            "500\n",
            "loss:1.6126327514648438\n",
            "600\n",
            "loss:1.5941205024719238\n",
            "700\n",
            "loss:1.5885372161865234\n",
            "test_correct 3456.0 out of 10000 and  Accuracy is34.56\n",
            "test error ::: 271.6206696033478\n",
            "epoch number is  7\n",
            "0\n",
            "loss:1.7246546745300293\n",
            "100\n",
            "loss:1.8738043308258057\n",
            "200\n",
            "loss:1.781734585762024\n",
            "300\n",
            "loss:1.8524521589279175\n",
            "400\n",
            "loss:1.6734681129455566\n",
            "500\n",
            "loss:1.7644145488739014\n",
            "600\n",
            "loss:1.795304298400879\n",
            "700\n",
            "loss:1.7138216495513916\n",
            "test_correct 4325.0 out of 10000 and  Accuracy is43.25\n",
            "test error ::: 249.06308782100677\n",
            "epoch number is  8\n",
            "0\n",
            "loss:1.8668450117111206\n",
            "100\n",
            "loss:1.8579883575439453\n",
            "200\n",
            "loss:1.8811697959899902\n",
            "300\n",
            "loss:1.9554684162139893\n",
            "400\n",
            "loss:1.691942572593689\n",
            "500\n",
            "loss:1.86406409740448\n",
            "600\n",
            "loss:1.7043958902359009\n",
            "700\n",
            "loss:1.9134466648101807\n",
            "test_correct 4365.0 out of 10000 and  Accuracy is43.65\n",
            "test error ::: 249.05992352962494\n",
            "epoch number is  9\n",
            "0\n",
            "loss:1.6671258211135864\n",
            "100\n",
            "loss:1.8886340856552124\n",
            "200\n",
            "loss:1.6975396871566772\n",
            "300\n",
            "loss:1.6977074146270752\n",
            "400\n",
            "loss:1.6173202991485596\n",
            "500\n",
            "loss:1.7353441715240479\n",
            "600\n",
            "loss:1.7288622856140137\n",
            "700\n",
            "loss:1.9258962869644165\n",
            "test_correct 4308.0 out of 10000 and  Accuracy is43.08\n",
            "test error ::: 253.68911397457123\n",
            "epoch number is  10\n",
            "0\n",
            "loss:1.8462638854980469\n",
            "100\n",
            "loss:1.7343096733093262\n",
            "200\n",
            "loss:1.6971997022628784\n",
            "300\n",
            "loss:1.869997501373291\n",
            "400\n",
            "loss:1.7980010509490967\n",
            "500\n",
            "loss:1.9457809925079346\n",
            "600\n",
            "loss:1.7297966480255127\n",
            "700\n",
            "loss:1.8357579708099365\n",
            "test_correct 4442.0 out of 10000 and  Accuracy is44.42\n",
            "test error ::: 246.04707169532776\n",
            "epoch number is  11\n",
            "0\n",
            "loss:1.8604754209518433\n",
            "100\n",
            "loss:1.6562248468399048\n",
            "200\n",
            "loss:1.805580735206604\n",
            "300\n",
            "loss:1.8009488582611084\n",
            "400\n",
            "loss:2.041431188583374\n",
            "500\n",
            "loss:1.6133148670196533\n",
            "600\n",
            "loss:1.836257815361023\n",
            "700\n",
            "loss:1.846917748451233\n",
            "test_correct 4292.0 out of 10000 and  Accuracy is42.92\n",
            "test error ::: 249.64937567710876\n",
            "epoch number is  12\n",
            "0\n",
            "loss:1.7902463674545288\n",
            "100\n",
            "loss:1.7452877759933472\n",
            "200\n",
            "loss:1.8585896492004395\n",
            "300\n",
            "loss:1.7178272008895874\n",
            "400\n",
            "loss:1.7745428085327148\n",
            "500\n",
            "loss:1.7350378036499023\n",
            "600\n",
            "loss:1.6869086027145386\n",
            "700\n",
            "loss:1.8531711101531982\n",
            "test_correct 4103.0 out of 10000 and  Accuracy is41.03\n",
            "test error ::: 250.41975808143616\n",
            "epoch number is  13\n",
            "0\n",
            "loss:1.7441803216934204\n",
            "100\n",
            "loss:1.843360185623169\n",
            "200\n",
            "loss:1.6126055717468262\n",
            "300\n",
            "loss:1.8205842971801758\n",
            "400\n",
            "loss:1.7165169715881348\n",
            "500\n",
            "loss:1.7593836784362793\n",
            "600\n",
            "loss:1.9013270139694214\n",
            "700\n",
            "loss:1.774614930152893\n",
            "test_correct 4419.0 out of 10000 and  Accuracy is44.190000000000005\n",
            "test error ::: 241.38987696170807\n",
            "epoch number is  14\n",
            "0\n",
            "loss:1.9194351434707642\n",
            "100\n",
            "loss:1.6978057622909546\n",
            "200\n",
            "loss:1.7886834144592285\n",
            "300\n",
            "loss:1.815504789352417\n",
            "400\n",
            "loss:1.851835012435913\n",
            "500\n",
            "loss:1.917495608329773\n",
            "600\n",
            "loss:1.7218115329742432\n",
            "700\n",
            "loss:1.973849892616272\n",
            "test_correct 4519.0 out of 10000 and  Accuracy is45.190000000000005\n",
            "test error ::: 241.10066676139832\n",
            "epoch number is  15\n",
            "0\n",
            "loss:1.7370882034301758\n",
            "100\n",
            "loss:1.6548430919647217\n",
            "200\n",
            "loss:1.6026215553283691\n",
            "300\n",
            "loss:1.7918646335601807\n",
            "400\n",
            "loss:1.678295373916626\n",
            "500\n",
            "loss:1.7351479530334473\n",
            "600\n",
            "loss:1.801958680152893\n",
            "700\n",
            "loss:1.6627755165100098\n",
            "test_correct 4745.0 out of 10000 and  Accuracy is47.449999999999996\n",
            "test error ::: 236.12636697292328\n",
            "epoch number is  16\n",
            "0\n",
            "loss:1.635542869567871\n",
            "100\n",
            "loss:1.911954402923584\n",
            "200\n",
            "loss:1.860840082168579\n",
            "300\n",
            "loss:1.6253160238265991\n",
            "400\n",
            "loss:1.7887859344482422\n",
            "500\n",
            "loss:1.8826936483383179\n",
            "600\n",
            "loss:1.6517781019210815\n",
            "700\n",
            "loss:1.8921674489974976\n",
            "test_correct 4384.0 out of 10000 and  Accuracy is43.84\n",
            "test error ::: 244.54472088813782\n",
            "epoch number is  17\n",
            "0\n",
            "loss:1.6893929243087769\n",
            "100\n",
            "loss:1.792365312576294\n",
            "200\n",
            "loss:1.914150595664978\n",
            "300\n",
            "loss:1.8167014122009277\n",
            "400\n",
            "loss:1.6911402940750122\n",
            "500\n",
            "loss:1.712847113609314\n",
            "600\n",
            "loss:1.8026340007781982\n",
            "700\n",
            "loss:1.7174979448318481\n",
            "test_correct 4117.0 out of 10000 and  Accuracy is41.17\n",
            "test error ::: 258.5186530351639\n",
            "epoch number is  18\n",
            "0\n",
            "loss:1.7273898124694824\n",
            "100\n",
            "loss:1.4043476581573486\n",
            "200\n",
            "loss:1.5998915433883667\n",
            "300\n",
            "loss:1.744686484336853\n",
            "400\n",
            "loss:1.6706812381744385\n",
            "500\n",
            "loss:1.8186237812042236\n",
            "600\n",
            "loss:1.5491483211517334\n",
            "700\n",
            "loss:1.8629423379898071\n",
            "test_correct 4590.0 out of 10000 and  Accuracy is45.9\n",
            "test error ::: 235.75207662582397\n",
            "epoch number is  19\n",
            "0\n",
            "loss:1.73046875\n",
            "100\n",
            "loss:1.4238911867141724\n",
            "200\n",
            "loss:1.7361905574798584\n",
            "300\n",
            "loss:1.6405720710754395\n",
            "400\n",
            "loss:1.6097075939178467\n",
            "500\n",
            "loss:1.6660794019699097\n",
            "600\n",
            "loss:1.8130906820297241\n",
            "700\n",
            "loss:1.7867510318756104\n",
            "test_correct 4388.0 out of 10000 and  Accuracy is43.88\n",
            "test error ::: 244.81923151016235\n",
            "epoch number is  20\n",
            "0\n",
            "loss:1.7677303552627563\n",
            "100\n",
            "loss:1.4993442296981812\n",
            "200\n",
            "loss:1.7746987342834473\n",
            "300\n",
            "loss:1.7489013671875\n",
            "400\n",
            "loss:1.821075677871704\n",
            "500\n",
            "loss:1.811691403388977\n",
            "600\n",
            "loss:1.6003912687301636\n",
            "700\n",
            "loss:1.957417607307434\n",
            "test_correct 4624.0 out of 10000 and  Accuracy is46.239999999999995\n",
            "test error ::: 239.22992050647736\n",
            "epoch number is  21\n",
            "0\n",
            "loss:1.7183022499084473\n",
            "100\n",
            "loss:1.6996651887893677\n",
            "200\n",
            "loss:1.5081048011779785\n",
            "300\n",
            "loss:1.7624757289886475\n",
            "400\n",
            "loss:1.6131458282470703\n",
            "500\n",
            "loss:1.680298924446106\n",
            "600\n",
            "loss:1.7080376148223877\n",
            "700\n",
            "loss:1.7220853567123413\n",
            "test_correct 4739.0 out of 10000 and  Accuracy is47.39\n",
            "test error ::: 237.56593811511993\n",
            "epoch number is  22\n",
            "0\n",
            "loss:1.6567456722259521\n",
            "100\n",
            "loss:1.9589229822158813\n",
            "200\n",
            "loss:1.6962987184524536\n",
            "300\n",
            "loss:1.839877724647522\n",
            "400\n",
            "loss:1.7858332395553589\n",
            "500\n",
            "loss:1.624589204788208\n",
            "600\n",
            "loss:1.743650197982788\n",
            "700\n",
            "loss:1.4854488372802734\n",
            "test_correct 4555.0 out of 10000 and  Accuracy is45.550000000000004\n",
            "test error ::: 236.33713519573212\n",
            "epoch number is  23\n",
            "0\n",
            "loss:1.8054207563400269\n",
            "100\n",
            "loss:1.5435999631881714\n",
            "200\n",
            "loss:1.7226619720458984\n",
            "300\n",
            "loss:1.6114988327026367\n",
            "400\n",
            "loss:1.7523006200790405\n",
            "500\n",
            "loss:1.6555724143981934\n",
            "600\n",
            "loss:1.7137904167175293\n",
            "700\n",
            "loss:1.813796877861023\n",
            "test_correct 3957.0 out of 10000 and  Accuracy is39.57\n",
            "test error ::: 270.27598321437836\n",
            "epoch number is  24\n",
            "0\n",
            "loss:1.7211620807647705\n",
            "100\n",
            "loss:1.7291761636734009\n",
            "200\n",
            "loss:1.6833966970443726\n",
            "300\n",
            "loss:1.6136318445205688\n",
            "400\n",
            "loss:1.664732575416565\n",
            "500\n",
            "loss:1.7394382953643799\n",
            "600\n",
            "loss:1.6762923002243042\n",
            "700\n",
            "loss:1.7108080387115479\n",
            "test_correct 4762.0 out of 10000 and  Accuracy is47.620000000000005\n",
            "test error ::: 232.859232544899\n",
            "epoch number is  25\n",
            "0\n",
            "loss:1.6662734746932983\n",
            "100\n",
            "loss:2.0074427127838135\n",
            "200\n",
            "loss:1.584621787071228\n",
            "300\n",
            "loss:1.6702772378921509\n",
            "400\n",
            "loss:1.5956661701202393\n",
            "500\n",
            "loss:1.9510542154312134\n",
            "600\n",
            "loss:1.721601963043213\n",
            "700\n",
            "loss:1.5763118267059326\n",
            "test_correct 4600.0 out of 10000 and  Accuracy is46.0\n",
            "test error ::: 232.20465540885925\n",
            "epoch number is  26\n",
            "0\n",
            "loss:1.7752341032028198\n",
            "100\n",
            "loss:1.6267240047454834\n",
            "200\n",
            "loss:1.5888203382492065\n",
            "300\n",
            "loss:1.6504273414611816\n",
            "400\n",
            "loss:1.773915410041809\n",
            "500\n",
            "loss:1.7055062055587769\n",
            "600\n",
            "loss:1.671305775642395\n",
            "700\n",
            "loss:1.7263593673706055\n",
            "test_correct 4497.0 out of 10000 and  Accuracy is44.97\n",
            "test error ::: 239.56574630737305\n",
            "epoch number is  27\n",
            "0\n",
            "loss:1.7194281816482544\n",
            "100\n",
            "loss:1.7538501024246216\n",
            "200\n",
            "loss:1.6842832565307617\n",
            "300\n",
            "loss:1.5547540187835693\n",
            "400\n",
            "loss:1.729443073272705\n",
            "500\n",
            "loss:1.7060723304748535\n",
            "600\n",
            "loss:1.5917094945907593\n",
            "700\n",
            "loss:1.7868326902389526\n",
            "test_correct 4682.0 out of 10000 and  Accuracy is46.82\n",
            "test error ::: 233.6791214942932\n",
            "epoch number is  28\n",
            "0\n",
            "loss:1.9277613162994385\n",
            "100\n",
            "loss:1.8073002099990845\n",
            "200\n",
            "loss:1.6940557956695557\n",
            "300\n",
            "loss:1.8331120014190674\n",
            "400\n",
            "loss:1.8002493381500244\n",
            "500\n",
            "loss:1.806236982345581\n",
            "600\n",
            "loss:1.736925482749939\n",
            "700\n",
            "loss:1.57033109664917\n",
            "test_correct 4684.0 out of 10000 and  Accuracy is46.839999999999996\n",
            "test error ::: 238.25453758239746\n",
            "epoch number is  29\n",
            "0\n",
            "loss:1.7309560775756836\n",
            "100\n",
            "loss:1.6183828115463257\n",
            "200\n",
            "loss:1.7590000629425049\n",
            "300\n",
            "loss:1.8071694374084473\n",
            "400\n",
            "loss:1.5989590883255005\n",
            "500\n",
            "loss:1.832913875579834\n",
            "600\n",
            "loss:1.484557032585144\n",
            "700\n",
            "loss:1.6565614938735962\n",
            "test_correct 4637.0 out of 10000 and  Accuracy is46.37\n",
            "test error ::: 236.89336907863617\n",
            "epoch number is  30\n",
            "0\n",
            "loss:1.7976305484771729\n",
            "100\n",
            "loss:1.693171501159668\n",
            "200\n",
            "loss:1.739460825920105\n",
            "300\n",
            "loss:1.6566280126571655\n",
            "400\n",
            "loss:1.8570679426193237\n",
            "500\n",
            "loss:1.5053280591964722\n",
            "600\n",
            "loss:1.6946731805801392\n",
            "700\n",
            "loss:1.635451316833496\n",
            "test_correct 4460.0 out of 10000 and  Accuracy is44.6\n",
            "test error ::: 241.7041984796524\n"
          ]
        }
      ]
    },
    {
      "cell_type": "code",
      "source": [
        "#!tensorboard dev auth revoke\\\n",
        "!tensorboard dev upload \\\n",
        "  --logdir \"/content/runs\" \\\n",
        "  --name \"My latest expariment\" \\\n",
        "  --description \"simple comparison of several hyperparameters\" \\\n",
        "  --one_shot"
      ],
      "metadata": {
        "colab": {
          "base_uri": "https://localhost:8080/"
        },
        "id": "vQewJVqLmAg_",
        "outputId": "5f78aca9-7984-4434-d6c4-7431a2052966"
      },
      "execution_count": null,
      "outputs": [
        {
          "output_type": "stream",
          "name": "stdout",
          "text": [
            "2023-09-25 05:18:56.379933: I tensorflow/core/platform/cpu_feature_guard.cc:182] This TensorFlow binary is optimized to use available CPU instructions in performance-critical operations.\n",
            "To enable the following instructions: AVX2 FMA, in other operations, rebuild TensorFlow with the appropriate compiler flags.\n",
            "2023-09-25 05:18:57.302856: W tensorflow/compiler/tf2tensorrt/utils/py_utils.cc:38] TF-TRT Warning: Could not find TensorRT\n",
            "2023-09-25 05:18:59.290442: I tensorflow/compiler/xla/stream_executor/cuda/cuda_gpu_executor.cc:995] successful NUMA node read from SysFS had negative value (-1), but there must be at least one NUMA node, so returning NUMA node zero. See more at https://github.com/torvalds/linux/blob/v6.0/Documentation/ABI/testing/sysfs-bus-pci#L344-L355\n",
            "2023-09-25 05:18:59.794366: I tensorflow/compiler/xla/stream_executor/cuda/cuda_gpu_executor.cc:995] successful NUMA node read from SysFS had negative value (-1), but there must be at least one NUMA node, so returning NUMA node zero. See more at https://github.com/torvalds/linux/blob/v6.0/Documentation/ABI/testing/sysfs-bus-pci#L344-L355\n",
            "2023-09-25 05:18:59.794719: I tensorflow/compiler/xla/stream_executor/cuda/cuda_gpu_executor.cc:995] successful NUMA node read from SysFS had negative value (-1), but there must be at least one NUMA node, so returning NUMA node zero. See more at https://github.com/torvalds/linux/blob/v6.0/Documentation/ABI/testing/sysfs-bus-pci#L344-L355\n",
            "\n",
            "***** TensorBoard Uploader *****\n",
            "\n",
            "This will upload your TensorBoard logs to https://tensorboard.dev/ from\n",
            "the following directory:\n",
            "\n",
            "/content/runs\n",
            "\n",
            "This TensorBoard will be visible to everyone. Do not upload sensitive\n",
            "data.\n",
            "\n",
            "Your use of this service is subject to Google's Terms of Service\n",
            "<https://policies.google.com/terms> and Privacy Policy\n",
            "<https://policies.google.com/privacy>, and TensorBoard.dev's Terms of Service\n",
            "<https://tensorboard.dev/policy/terms/>.\n",
            "\n",
            "This notice will not be shown again while you are logged into the uploader.\n",
            "To log out, run `tensorboard dev auth revoke`.\n",
            "\n",
            "Continue? (yes/NO) yes\n",
            "\n",
            "To sign in with the TensorBoard uploader:\n",
            "\n",
            "1. On your computer or phone, visit:\n",
            "\n",
            "   https://www.google.com/device\n",
            "\n",
            "2. Sign in with your Google account, then enter:\n",
            "\n",
            "   YCXS-PCMD\n",
            "\n"
          ]
        }
      ]
    },
    {
      "cell_type": "code",
      "source": [
        "!pwd"
      ],
      "metadata": {
        "colab": {
          "base_uri": "https://localhost:8080/"
        },
        "id": "_Ol1mRNBnCAY",
        "outputId": "c2af77b3-2643-44e7-8162-4e880c0813c8"
      },
      "execution_count": null,
      "outputs": [
        {
          "output_type": "stream",
          "name": "stdout",
          "text": [
            "/content\n"
          ]
        }
      ]
    },
    {
      "cell_type": "code",
      "source": [
        "#torch.save(model.state_dict(), '/content/maybe.pth')\n",
        "import torch\n",
        "\n",
        "# Save the model's state_dict to a file named \"maybe.pth\" in the \"/content/\" directory\n",
        "torch.save(model.state_dict(), '/content/maybe.pth')\n"
      ],
      "metadata": {
        "id": "yyON6MO-nFHs"
      },
      "execution_count": null,
      "outputs": []
    },
    {
      "cell_type": "markdown",
      "source": [
        "## Inference"
      ],
      "metadata": {
        "id": "jOUPmQ6vqDUp"
      }
    },
    {
      "cell_type": "code",
      "source": [
        "import os\n",
        "\n",
        "file_path = '/content/maybe.pth'\n",
        "if os.path.exists(file_path):\n",
        "    model = CNN()\n",
        "    model.load_state_dict(torch.load(file_path))\n",
        "else:\n",
        "    print(f\"File '{file_path}' does not exist.\")"
      ],
      "metadata": {
        "id": "yF5LyqrXuBbP"
      },
      "execution_count": null,
      "outputs": []
    },
    {
      "cell_type": "code",
      "source": [
        "model = CNN()\n",
        "model.load_state_dict(torch.load('/content/maybe.pth'))"
      ],
      "metadata": {
        "colab": {
          "base_uri": "https://localhost:8080/"
        },
        "id": "oXfefcXFnae-",
        "outputId": "d436570e-a1dd-42ab-acac-6f6c2888d122"
      },
      "execution_count": null,
      "outputs": [
        {
          "output_type": "execute_result",
          "data": {
            "text/plain": [
              "<All keys matched successfully>"
            ]
          },
          "metadata": {},
          "execution_count": 37
        }
      ]
    },
    {
      "cell_type": "code",
      "source": [
        "model"
      ],
      "metadata": {
        "colab": {
          "base_uri": "https://localhost:8080/"
        },
        "id": "3x9t9us4Uu8U",
        "outputId": "b8ee87f5-78fd-480e-8b6a-271e40ee8f62"
      },
      "execution_count": null,
      "outputs": [
        {
          "output_type": "execute_result",
          "data": {
            "text/plain": [
              "CNN(\n",
              "  (conv1): Conv2d(3, 6, kernel_size=(5, 5), stride=(1, 1))\n",
              "  (pool): MaxPool2d(kernel_size=2, stride=2, padding=0, dilation=1, ceil_mode=False)\n",
              "  (conv2): Conv2d(6, 16, kernel_size=(5, 5), stride=(1, 1))\n",
              "  (fc1): Linear(in_features=1600, out_features=120, bias=True)\n",
              "  (fc2): Linear(in_features=120, out_features=80, bias=True)\n",
              "  (fc3): Linear(in_features=80, out_features=10, bias=True)\n",
              "  (dropout): Dropout2d(p=0.4, inplace=False)\n",
              ")"
            ]
          },
          "metadata": {},
          "execution_count": 38
        }
      ]
    },
    {
      "cell_type": "code",
      "source": [
        "def test(model,data,loss_,epoch):\n",
        "  #model.eval()\n",
        "  test_error,correct = 0,0\n",
        "  size  = len(data.dataset)\n",
        "\n",
        "  with torch.no_grad():\n",
        "\n",
        "    for batch,(X,y) in enumerate(data):\n",
        "      #X = X.to(device)\n",
        "      #y = y.to(device)\n",
        "\n",
        "      pred = model(X)\n",
        "      loss = loss_(pred,y)\n",
        "      test_error += loss.item()\n",
        "      correct += (pred.argmax(1)==y).type(torch.float).sum().item()\n",
        "    print(f'test_correct {correct} out of {size} and  Accuracy is{correct/size*100}' )\n",
        "    test_accuracy = correct / size\n",
        "    test_loss = test_error / len(data)\n",
        "    writer.add_scalar(\"Test Accuracy\", test_accuracy, epoch)\n",
        "    writer.add_scalar(\"Test Loss\", test_loss, epoch)\n",
        "    print('test error :::',test_error)\n",
        "    return test_error\n",
        "\n"
      ],
      "metadata": {
        "id": "c2gLznTepqua"
      },
      "execution_count": null,
      "outputs": []
    },
    {
      "cell_type": "code",
      "source": [
        "test(model,testdata_loader,loss_fn,1)"
      ],
      "metadata": {
        "colab": {
          "base_uri": "https://localhost:8080/"
        },
        "id": "jVlBHpxSpunZ",
        "outputId": "d85ebee9-3910-47ae-a597-607fd93b6678"
      },
      "execution_count": null,
      "outputs": [
        {
          "output_type": "stream",
          "name": "stdout",
          "text": [
            "test_correct 4460.0 out of 10000 and  Accuracy is44.6\n",
            "test error ::: 241.63306403160095\n"
          ]
        },
        {
          "output_type": "execute_result",
          "data": {
            "text/plain": [
              "241.63306403160095"
            ]
          },
          "metadata": {},
          "execution_count": 44
        }
      ]
    },
    {
      "cell_type": "code",
      "source": [],
      "metadata": {
        "id": "nPI8oIXBpxl2"
      },
      "execution_count": null,
      "outputs": []
    }
  ]
}